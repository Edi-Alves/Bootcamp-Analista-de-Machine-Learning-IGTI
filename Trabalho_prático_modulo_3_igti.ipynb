{
  "nbformat": 4,
  "nbformat_minor": 0,
  "metadata": {
    "colab": {
      "name": "Trabalho prático modulo 3_igti.ipynb",
      "provenance": [],
      "collapsed_sections": [],
      "authorship_tag": "ABX9TyOjyrOzoaKNGl/0R8oMoTFv",
      "include_colab_link": true
    },
    "kernelspec": {
      "name": "python3",
      "display_name": "Python 3"
    }
  },
  "cells": [
    {
      "cell_type": "markdown",
      "metadata": {
        "id": "view-in-github",
        "colab_type": "text"
      },
      "source": [
        "<a href=\"https://colab.research.google.com/github/Edi-Alves/Bootcamp-Analista-de-Machine-Learning-IGTI/blob/master/Trabalho_pr%C3%A1tico_modulo_3_igti.ipynb\" target=\"_parent\"><img src=\"https://colab.research.google.com/assets/colab-badge.svg\" alt=\"Open In Colab\"/></a>"
      ]
    },
    {
      "cell_type": "markdown",
      "metadata": {
        "id": "FII9uItNFI15",
        "colab_type": "text"
      },
      "source": [
        "TRABALHO PRATICO MODULO 3 IGTI\n",
        "\n",
        "O conjunto de dados IRIS talvez seja o mais clássico dos conjuntos de testes de algoritmos de classificação. Ele divide amostras de plantas em três espécies diferentes e tem, como features, a altura e largura de duas partes da planta: a sépala e as pétalas. Neste trabalho você deve classificar esse conjunto de dados com pelo menos dois algoritmos. Você deverá analisá-los segundo as métricas de qualidade que julgar relevantes, e utilizar técnicas de busca de hiperparâmetros e validação cruzada para tornar seus resultados mais robustos.\n",
        "\n",
        "Fonte: http://scikit-learn.org/stable/modules/generated/sklearn.datasets.load_iris.html\n",
        "\n",
        "Observação: gerar gráficos que expliquem e ilustrem o seu problema não é parte obrigatória da resolução do trabalho, mas é um treino bastante recomendado. Além disso, será necessário consultar a documentação do scikit-learn para fazer esse trabalho. Busque por “algoritmos de classificação” e pelos códigos mostrados durante as aulas interativas. Saber consultar documentações é uma habilidade importante de quem trabalha com Aprendizado de Máquina, e é isso que pretendemos desenvolver aqui!"
      ]
    },
    {
      "cell_type": "markdown",
      "metadata": {
        "id": "eEfyG9EJjbmO",
        "colab_type": "text"
      },
      "source": [
        "IMPORTAÇÃO DOS PACOTES NECESSÁRIOS"
      ]
    },
    {
      "cell_type": "code",
      "metadata": {
        "id": "Fo7ucOfQxRAS",
        "colab_type": "code",
        "colab": {}
      },
      "source": [
        "import pandas as pd\n",
        "from sklearn.datasets import load_iris\n",
        "from sklearn.model_selection import train_test_split\n",
        "from sklearn.neighbors import KNeighborsClassifier\n",
        "from sklearn.ensemble import RandomForestClassifier\n",
        "from sklearn.model_selection import GridSearchCV\n",
        "from sklearn import metrics\n",
        "from sklearn.metrics import classification_report, confusion_matrix\n",
        "from mlxtend.plotting import plot_confusion_matrix\n",
        "import matplotlib.pyplot as plt"
      ],
      "execution_count": 0,
      "outputs": []
    },
    {
      "cell_type": "markdown",
      "metadata": {
        "id": "Jz3z2Ia9GDtq",
        "colab_type": "text"
      },
      "source": [
        "CARREGAMENTO DO DATASET IRIS - Nota: O formato padrão deste dataset é um array"
      ]
    },
    {
      "cell_type": "code",
      "metadata": {
        "id": "eT2uejL2uwFS",
        "colab_type": "code",
        "colab": {}
      },
      "source": [
        "# Leitura do dataset\n",
        "data = load_iris()"
      ],
      "execution_count": 0,
      "outputs": []
    },
    {
      "cell_type": "code",
      "metadata": {
        "id": "XeJgFyDPgpmn",
        "colab_type": "code",
        "outputId": "e04a91d0-4aea-4af5-b613-8dcd113e38b4",
        "colab": {
          "base_uri": "https://localhost:8080/",
          "height": 34
        }
      },
      "source": [
        "# Verificação das variaveis preditoras.\n",
        "print(data.feature_names)"
      ],
      "execution_count": 3,
      "outputs": [
        {
          "output_type": "stream",
          "text": [
            "['sepal length (cm)', 'sepal width (cm)', 'petal length (cm)', 'petal width (cm)']\n"
          ],
          "name": "stdout"
        }
      ]
    },
    {
      "cell_type": "code",
      "metadata": {
        "id": "0LC0dpiIgpvV",
        "colab_type": "code",
        "outputId": "fef2f7d6-16b9-456f-d983-82b9a830a85c",
        "colab": {
          "base_uri": "https://localhost:8080/",
          "height": 34
        }
      },
      "source": [
        "# Verificação das variável target\n",
        "print(data.target_names)"
      ],
      "execution_count": 4,
      "outputs": [
        {
          "output_type": "stream",
          "text": [
            "['setosa' 'versicolor' 'virginica']\n"
          ],
          "name": "stdout"
        }
      ]
    },
    {
      "cell_type": "code",
      "metadata": {
        "id": "ftkhdAM1gpyX",
        "colab_type": "code",
        "outputId": "83a4ab5e-1141-4cea-f67d-7f560bf7218d",
        "colab": {
          "base_uri": "https://localhost:8080/",
          "height": 102
        }
      },
      "source": [
        "# Valores da variável target\n",
        "print(data.target)"
      ],
      "execution_count": 5,
      "outputs": [
        {
          "output_type": "stream",
          "text": [
            "[0 0 0 0 0 0 0 0 0 0 0 0 0 0 0 0 0 0 0 0 0 0 0 0 0 0 0 0 0 0 0 0 0 0 0 0 0\n",
            " 0 0 0 0 0 0 0 0 0 0 0 0 0 1 1 1 1 1 1 1 1 1 1 1 1 1 1 1 1 1 1 1 1 1 1 1 1\n",
            " 1 1 1 1 1 1 1 1 1 1 1 1 1 1 1 1 1 1 1 1 1 1 1 1 1 1 2 2 2 2 2 2 2 2 2 2 2\n",
            " 2 2 2 2 2 2 2 2 2 2 2 2 2 2 2 2 2 2 2 2 2 2 2 2 2 2 2 2 2 2 2 2 2 2 2 2 2\n",
            " 2 2]\n"
          ],
          "name": "stdout"
        }
      ]
    },
    {
      "cell_type": "code",
      "metadata": {
        "id": "UN1pr8Vmgp1J",
        "colab_type": "code",
        "colab": {}
      },
      "source": [
        "# Separando as variáveis preditoras da target. Nota: por padrão o dataset já é separado em X e Y\n",
        "X = data.data[:, :2]  # Conforme documentação usaremos somente as 2 variáveis preditoras\n",
        "y = data.target"
      ],
      "execution_count": 0,
      "outputs": []
    },
    {
      "cell_type": "code",
      "metadata": {
        "id": "Di4Bnjnugp52",
        "colab_type": "code",
        "colab": {}
      },
      "source": [
        "# Split do dataset em treino e teste: 70% treino e 30% teste\n",
        "X_train, X_test, y_train, y_test = train_test_split(X, y, test_size=0.3)"
      ],
      "execution_count": 0,
      "outputs": []
    },
    {
      "cell_type": "code",
      "metadata": {
        "id": "Yz-o0PF9gp8p",
        "colab_type": "code",
        "outputId": "cf6c4e16-8ad6-4a6e-fcf5-720a93f1cc2d",
        "colab": {
          "base_uri": "https://localhost:8080/",
          "height": 34
        }
      },
      "source": [
        "# Comprimento do dados de treino e teste\n",
        "len(X_train), len(y_train), len(X_test), len(y_test)"
      ],
      "execution_count": 8,
      "outputs": [
        {
          "output_type": "execute_result",
          "data": {
            "text/plain": [
              "(105, 105, 45, 45)"
            ]
          },
          "metadata": {
            "tags": []
          },
          "execution_count": 8
        }
      ]
    },
    {
      "cell_type": "markdown",
      "metadata": {
        "id": "gL6sCltdmDQ5",
        "colab_type": "text"
      },
      "source": [
        "CRIAÇÃO DO MODELO COM KNN"
      ]
    },
    {
      "cell_type": "code",
      "metadata": {
        "id": "ulCn7_zjkzRX",
        "colab_type": "code",
        "colab": {}
      },
      "source": [
        "# Treinamento do modelo\n",
        "knn = KNeighborsClassifier()\n",
        "knn.fit(X_train, y_train)\n",
        "y_pred = knn.predict(X_test)"
      ],
      "execution_count": 0,
      "outputs": []
    },
    {
      "cell_type": "code",
      "metadata": {
        "id": "A6J54D3WkzUn",
        "colab_type": "code",
        "outputId": "2fd64399-7438-4aad-8393-dce72cfb7b07",
        "colab": {
          "base_uri": "https://localhost:8080/",
          "height": 34
        }
      },
      "source": [
        "#Print das métricas\n",
        "print(\"Acurácia:\",metrics.accuracy_score(y_test, y_pred))"
      ],
      "execution_count": 10,
      "outputs": [
        {
          "output_type": "stream",
          "text": [
            "Acurácia: 0.6222222222222222\n"
          ],
          "name": "stdout"
        }
      ]
    },
    {
      "cell_type": "markdown",
      "metadata": {
        "id": "R5XfNSPtoRq7",
        "colab_type": "text"
      },
      "source": [
        "KNN com utilização do GRIDSEARCHCV"
      ]
    },
    {
      "cell_type": "code",
      "metadata": {
        "id": "EOfoc16NkzcY",
        "colab_type": "code",
        "colab": {}
      },
      "source": [
        "# Definição dos parametros\n",
        "params = {'n_neighbors': range(1,50), \n",
        "          'weights'    : [\"uniform\", \"distance\"],\n",
        "          'leaf_size' : [30, 50, 60]}"
      ],
      "execution_count": 0,
      "outputs": []
    },
    {
      "cell_type": "code",
      "metadata": {
        "id": "vXONoBQkoXre",
        "colab_type": "code",
        "outputId": "c28e2ecf-4617-4aa0-fbc6-d0da24e0556e",
        "colab": {
          "base_uri": "https://localhost:8080/",
          "height": 34
        }
      },
      "source": [
        "# Treinamento do modelo com os parametros definidos\n",
        "knn_g = GridSearchCV(KNeighborsClassifier(), params, cv=10, scoring='accuracy')\n",
        "knn_g.fit(X, y)\n",
        "print (knn_g.best_params_)"
      ],
      "execution_count": 12,
      "outputs": [
        {
          "output_type": "stream",
          "text": [
            "{'leaf_size': 30, 'n_neighbors': 43, 'weights': 'uniform'}\n"
          ],
          "name": "stdout"
        }
      ]
    },
    {
      "cell_type": "code",
      "metadata": {
        "id": "XaHvSdsqoXw-",
        "colab_type": "code",
        "outputId": "db864692-ad20-4f5e-f9b2-aaebc32dcb62",
        "colab": {
          "base_uri": "https://localhost:8080/",
          "height": 34
        }
      },
      "source": [
        "# Predição com os novos parametros\n",
        "y_pred_knn_otim = knn_g.predict(X_test)\n",
        "print(\"Acurácia:\",metrics.accuracy_score(y_test, y_pred_knn_otim)*100)\n",
        "# print('Recall', recall(y_test, y_pred_knn_otim))\n",
        "# print('Precision', precision_score(y_test, y_pred_knn_otim))"
      ],
      "execution_count": 13,
      "outputs": [
        {
          "output_type": "stream",
          "text": [
            "Acurácia: 86.66666666666667\n"
          ],
          "name": "stdout"
        }
      ]
    },
    {
      "cell_type": "markdown",
      "metadata": {
        "id": "8yDYkR-1q1ek",
        "colab_type": "text"
      },
      "source": [
        "CONSTRUÇÃO DA CONFUSION MATRIX"
      ]
    },
    {
      "cell_type": "code",
      "metadata": {
        "id": "ccSZwQM6oXz6",
        "colab_type": "code",
        "outputId": "90df05a8-c9cf-4c06-91dc-ff92a1c91c49",
        "colab": {
          "base_uri": "https://localhost:8080/",
          "height": 330
        }
      },
      "source": [
        "\n",
        "# Contrução da matriz de confusão\n",
        "matrix_knn = confusion_matrix(y_test, y_pred_knn_otim)\n",
        "print(matrix_knn)\n",
        "\n",
        "# Realiza o plot da matriz de confusão\n",
        "fig, ax = plot_confusion_matrix(conf_mat = matrix_knn)\n",
        "plt.show()"
      ],
      "execution_count": 14,
      "outputs": [
        {
          "output_type": "stream",
          "text": [
            "[[13  0  0]\n",
            " [ 0  8  2]\n",
            " [ 0  4 18]]\n"
          ],
          "name": "stdout"
        },
        {
          "output_type": "display_data",
          "data": {
            "image/png": "[encoded data removed]",
            "text/plain": [
              "<Figure size 432x288 with 1 Axes>"
            ]
          },
          "metadata": {
            "tags": [],
            "needs_background": "light"
          }
        }
      ]
    },
    {
      "cell_type": "markdown",
      "metadata": {
        "id": "5hOFb0NOLep_",
        "colab_type": "text"
      },
      "source": [
        "CRIAÇÃO DO MODELO COM RANDOM FOREST"
      ]
    },
    {
      "cell_type": "code",
      "metadata": {
        "id": "UAXaZ_R3oX7t",
        "colab_type": "code",
        "colab": {}
      },
      "source": [
        "# Treinamento do modelo\n",
        "\n",
        "rf = RandomForestClassifier(n_estimators = 200)\n",
        "rf.fit(X_train, y_train)\n",
        "y_pred = rf.predict(X_test)"
      ],
      "execution_count": 0,
      "outputs": []
    },
    {
      "cell_type": "code",
      "metadata": {
        "id": "ruGbKu03oX_5",
        "colab_type": "code",
        "colab": {
          "base_uri": "https://localhost:8080/",
          "height": 34
        },
        "outputId": "df021c5c-bd18-40cb-8430-0f3b860184b1"
      },
      "source": [
        "#Print das métricas\n",
        "print(\"Acurácia:\",metrics.accuracy_score(y_test, y_pred))"
      ],
      "execution_count": 16,
      "outputs": [
        {
          "output_type": "stream",
          "text": [
            "Acurácia: 0.6444444444444445\n"
          ],
          "name": "stdout"
        }
      ]
    },
    {
      "cell_type": "markdown",
      "metadata": {
        "id": "7p8aivg9MTJW",
        "colab_type": "text"
      },
      "source": [
        "RANDOM FOREST COM UTILIZAÇÃO DO GRIDSEARCHCV"
      ]
    },
    {
      "cell_type": "code",
      "metadata": {
        "id": "MxzWWnT_oYE4",
        "colab_type": "code",
        "colab": {}
      },
      "source": [
        "# Definição dos parametros\n",
        "params = {'n_estimators': [100, 300, 500, 100],\n",
        "          'min_samples_leaf': [3, 4, 8],\n",
        "          'max_depth': [2, 3, 5, 8]}\n",
        "   "
      ],
      "execution_count": 0,
      "outputs": []
    },
    {
      "cell_type": "code",
      "metadata": {
        "id": "IkYRcz1roX-A",
        "colab_type": "code",
        "colab": {
          "base_uri": "https://localhost:8080/",
          "height": 34
        },
        "outputId": "66266dc0-2b84-4022-fb1d-99e7ae95b4ea"
      },
      "source": [
        "# Treinamento com os novos parametros\n",
        "rf_g = GridSearchCV(RandomForestClassifier(), params, cv=10, n_jobs=-1, scoring='accuracy').fit(X_train, y_train)\n",
        "print(rf_g.best_params_)"
      ],
      "execution_count": 18,
      "outputs": [
        {
          "output_type": "stream",
          "text": [
            "{'max_depth': 3, 'min_samples_leaf': 4, 'n_estimators': 500}\n"
          ],
          "name": "stdout"
        }
      ]
    },
    {
      "cell_type": "code",
      "metadata": {
        "id": "15gseU3dQpWB",
        "colab_type": "code",
        "colab": {}
      },
      "source": [
        "# Previsão\n",
        "y_pred_rf_otim = rf_g.predict(X_test)"
      ],
      "execution_count": 0,
      "outputs": []
    },
    {
      "cell_type": "code",
      "metadata": {
        "id": "y9yvJWeKoX3D",
        "colab_type": "code",
        "colab": {
          "base_uri": "https://localhost:8080/",
          "height": 34
        },
        "outputId": "4ffbb9a5-2482-4478-fe7e-9ab397a3b568"
      },
      "source": [
        "# Print das acurácia com os novos parametros\n",
        "print(\"Acurácia:\",metrics.accuracy_score(y_test, y_pred_rf_otim)*100)"
      ],
      "execution_count": 20,
      "outputs": [
        {
          "output_type": "stream",
          "text": [
            "Acurácia: 71.11111111111111\n"
          ],
          "name": "stdout"
        }
      ]
    },
    {
      "cell_type": "code",
      "metadata": {
        "id": "9a3Dnh_VU_4o",
        "colab_type": "code",
        "colab": {
          "base_uri": "https://localhost:8080/",
          "height": 330
        },
        "outputId": "ceb85e51-7f66-4360-d4a6-566c7188f900"
      },
      "source": [
        "# Contrução da matriz de confusão\n",
        "matrix_rf = confusion_matrix(y_test, y_pred_rf_otim)\n",
        "print(matrix_rf)\n",
        "\n",
        "# Realiza o plot da matriz de confusão\n",
        "fig, ax = plot_confusion_matrix(conf_mat = matrix_rf)\n",
        "plt.show()"
      ],
      "execution_count": 21,
      "outputs": [
        {
          "output_type": "stream",
          "text": [
            "[[12  1  0]\n",
            " [ 0  7  3]\n",
            " [ 0  9 13]]\n"
          ],
          "name": "stdout"
        },
        {
          "output_type": "display_data",
          "data": {
            "image/png": "[encoded data removed]",
            "text/plain": [
              "<Figure size 432x288 with 1 Axes>"
            ]
          },
          "metadata": {
            "tags": [],
            "needs_background": "light"
          }
        }
      ]
    },
    {
      "cell_type": "markdown",
      "metadata": {
        "id": "T_cUSzXLhBx_",
        "colab_type": "text"
      },
      "source": [
        "FIM"
      ]
    },
    {
      "cell_type": "code",
      "metadata": {
        "id": "FLacmWVJU_7R",
        "colab_type": "code",
        "colab": {}
      },
      "source": [
        ""
      ],
      "execution_count": 0,
      "outputs": []
    },
    {
      "cell_type": "code",
      "metadata": {
        "id": "ax86br5CuwTj",
        "colab_type": "code",
        "colab": {}
      },
      "source": [
        "# Transformando as características da coluna species para tipo numerico.\n",
        "# iris['species_num'] = pd.factorize(iris['species'])[0] +1"
      ],
      "execution_count": 0,
      "outputs": []
    },
    {
      "cell_type": "code",
      "metadata": {
        "id": "880Eb1ru0yIe",
        "colab_type": "code",
        "colab": {}
      },
      "source": [
        ""
      ],
      "execution_count": 0,
      "outputs": []
    },
    {
      "cell_type": "code",
      "metadata": {
        "id": "wTTRpEB30yLB",
        "colab_type": "code",
        "colab": {}
      },
      "source": [
        ""
      ],
      "execution_count": 0,
      "outputs": []
    },
    {
      "cell_type": "code",
      "metadata": {
        "id": "JJV1ByfO0yOl",
        "colab_type": "code",
        "colab": {}
      },
      "source": [
        ""
      ],
      "execution_count": 0,
      "outputs": []
    },
    {
      "cell_type": "code",
      "metadata": {
        "id": "0USafYja0yRn",
        "colab_type": "code",
        "colab": {}
      },
      "source": [
        ""
      ],
      "execution_count": 0,
      "outputs": []
    }
  ]
}